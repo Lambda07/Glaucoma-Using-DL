{
  "nbformat": 4,
  "nbformat_minor": 0,
  "metadata": {
    "colab": {
      "provenance": []
    },
    "kernelspec": {
      "name": "python3",
      "display_name": "Python 3"
    },
    "language_info": {
      "name": "python"
    }
  },
  "cells": [
    {
      "cell_type": "code",
      "execution_count": 1,
      "metadata": {
        "colab": {
          "base_uri": "https://localhost:8080/"
        },
        "id": "zGy6f_PJ15i-",
        "outputId": "1359c210-ea82-4fb1-cb7f-0a40ae4728b7"
      },
      "outputs": [
        {
          "output_type": "stream",
          "name": "stdout",
          "text": [
            "Cloning into 'glaucoma-detection-FINAL'...\n",
            "remote: Enumerating objects: 1739, done.\u001b[K\n",
            "remote: Counting objects: 100% (855/855), done.\u001b[K\n",
            "remote: Compressing objects: 100% (853/853), done.\u001b[K\n",
            "remote: Total 1739 (delta 2), reused 855 (delta 2), pack-reused 884\u001b[K\n",
            "Receiving objects: 100% (1739/1739), 105.91 MiB | 25.82 MiB/s, done.\n",
            "Resolving deltas: 100% (2/2), done.\n"
          ]
        }
      ],
      "source": [
        "\n",
        "!git clone https://github.com/shivansh9848/glaucoma-detection-FINAL.git"
      ]
    },
    {
      "cell_type": "code",
      "source": [
        "import numpy as np\n",
        "import os\n",
        "import cv2\n",
        "import seaborn as sns\n",
        "import matplotlib.pyplot as plt\n",
        "from sklearn.ensemble import RandomForestClassifier\n",
        "from sklearn.metrics import confusion_matrix, accuracy_score, recall_score, precision_score\n",
        "\n",
        "# Load and preprocess data\n",
        "train_image = []\n",
        "train_label = []\n",
        "test_image = []\n",
        "test_label = []\n",
        "train_pos = '/content/glaucoma-detection-FINAL/U-NET/vgg16_data/positive_1'\n",
        "train_neg = '/content/glaucoma-detection-FINAL/U-NET/vgg16_data/negative_1'\n",
        "test_pos = '/content/glaucoma-detection-FINAL/U-NET/vgg16_data/positive_test'\n",
        "test_neg = '/content/glaucoma-detection-FINAL/U-NET/vgg16_data/negative_test'\n",
        "\n",
        "for filename in os.listdir(train_pos):\n",
        "    img_path = os.path.join(train_pos, filename)\n",
        "    img = cv2.imread(img_path)\n",
        "    img = cv2.cvtColor(img, cv2.COLOR_BGR2RGB)\n",
        "    train_image.append(img)\n",
        "    train_label.append(1)\n",
        "\n",
        "for filename in os.listdir(train_neg):\n",
        "    img_path = os.path.join(train_neg, filename)\n",
        "    img = cv2.imread(img_path)\n",
        "    img = cv2.cvtColor(img, cv2.COLOR_BGR2RGB)\n",
        "    train_image.append(img)\n",
        "    train_label.append(0)\n",
        "\n",
        "for filename in os.listdir(test_pos):\n",
        "    img_path = os.path.join(test_pos, filename)\n",
        "    img = cv2.imread(img_path)\n",
        "    img = cv2.cvtColor(img, cv2.COLOR_BGR2RGB)\n",
        "    test_image.append(img)\n",
        "    test_label.append(1)\n",
        "\n",
        "for filename in os.listdir(test_neg):\n",
        "    img_path = os.path.join(test_neg, filename)\n",
        "    img = cv2.imread(img_path)\n",
        "    img = cv2.cvtColor(img, cv2.COLOR_BGR2RGB)\n",
        "    test_image.append(img)\n",
        "    test_label.append(0)\n",
        "\n",
        "train_image = np.array(train_image) / 255.0\n",
        "test_image = np.array(test_image) / 255.0\n",
        "\n",
        "# Load pre-trained VGG16 model\n",
        "VGG_model = VGG16(weights='imagenet', include_top=False, input_shape=(128, 128, 3))\n",
        "\n",
        "# Extract features\n",
        "train_features = VGG_model.predict(train_image)\n",
        "test_features = VGG_model.predict(test_image)\n",
        "\n",
        "# Flatten features\n",
        "train_features_flatten = train_features.reshape(train_features.shape[0], -1)\n",
        "test_features_flatten = test_features.reshape(test_features.shape[0], -1)\n",
        "\n",
        "# Train RandomForestClassifier\n",
        "RF_model = RandomForestClassifier(n_estimators=100, random_state=42)\n",
        "RF_model.fit(train_features_flatten, train_label)\n",
        "\n",
        "# Predict\n",
        "prediction_RF = RF_model.predict(test_features_flatten)\n",
        "\n",
        "# Calculate metrics\n",
        "accuracy = accuracy_score(test_label, prediction_RF)\n",
        "recall = recall_score(test_label, prediction_RF)\n",
        "precision = precision_score(test_label, prediction_RF)\n",
        "cm = confusion_matrix(test_label, prediction_RF)\n",
        "\n",
        "# Print metrics\n",
        "print('Accuracy =', accuracy)\n",
        "print('Recall =', recall)\n",
        "print('Precision =', precision)\n",
        "\n",
        "# Plot confusion matrix\n",
        "plt.figure(figsize=(8, 6))\n",
        "sns.heatmap(cm, annot=True, cmap='Blues', fmt='g')\n",
        "plt.xlabel('Predicted labels')\n",
        "plt.ylabel('True labels')\n",
        "plt.title('Confusion Matrix')\n",
        "plt.show()\n"
      ],
      "metadata": {
        "colab": {
          "base_uri": "https://localhost:8080/",
          "height": 651
        },
        "id": "IO98IiU62m19",
        "outputId": "4249ce90-2286-42f5-b890-22d0e23afe67"
      },
      "execution_count": 5,
      "outputs": [
        {
          "output_type": "stream",
          "name": "stdout",
          "text": [
            "11/11 [==============================] - 78s 7s/step\n",
            "2/2 [==============================] - 8s 3s/step\n",
            "Accuracy = 0.7291666666666666\n",
            "Recall = 0.75\n",
            "Precision = 0.72\n"
          ]
        },
        {
          "output_type": "display_data",
          "data": {
            "text/plain": [
              "<Figure size 800x600 with 2 Axes>"
            ],
            "image/png": "[encoded data removed]"
          },
          "metadata": {}
        }
      ]
    }
  ]
}