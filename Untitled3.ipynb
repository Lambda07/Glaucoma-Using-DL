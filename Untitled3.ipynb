{
  "nbformat": 4,
  "nbformat_minor": 0,
  "metadata": {
    "colab": {
      "provenance": []
    },
    "kernelspec": {
      "name": "python3",
      "display_name": "Python 3"
    },
    "language_info": {
      "name": "python"
    }
  },
  "cells": [
    {
      "cell_type": "code",
      "source": [
        "from keras.utils import normalize\n",
        "import os\n",
        "import glob\n",
        "import cv2\n",
        "import numpy as np\n",
        "from matplotlib import pyplot as plt\n",
        "from PIL import Image"
      ],
      "metadata": {
        "id": "zwGeTTF0Mtnf"
      },
      "execution_count": 38,
      "outputs": []
    },
    {
      "cell_type": "code",
      "source": [
        "from google.colab import drive\n",
        "drive.mount('/content/drive')"
      ],
      "metadata": {
        "colab": {
          "base_uri": "https://localhost:8080/"
        },
        "id": "13kjri9uMwlx",
        "outputId": "8bfdfeaf-87d6-45bd-8b14-dd75378460cf"
      },
      "execution_count": 39,
      "outputs": [
        {
          "output_type": "stream",
          "name": "stdout",
          "text": [
            "Drive already mounted at /content/drive; to attempt to forcibly remount, call drive.mount(\"/content/drive\", force_remount=True).\n"
          ]
        }
      ]
    },
    {
      "cell_type": "code",
      "source": [
        "folder_mask = '/content/drive/MyDrive/project/u_net/mask'\n",
        "folder_image = '/content/drive/MyDrive/project/u_net/image'"
      ],
      "metadata": {
        "id": "A-p8fR2GJhy2"
      },
      "execution_count": 40,
      "outputs": []
    },
    {
      "cell_type": "code",
      "source": [
        "train_images = []\n",
        "\n",
        "for directory_path in os.listdir(folder_image):\n",
        "        img = Image.open(folder_image+'/'+directory_path)\n",
        "        img = img.resize((128, 128))\n",
        "        img = np.array(img)\n",
        "        train_images.append(img)\n",
        "\n",
        "train_images = np.array(train_images)\n",
        "train_images = train_images/255.0\n",
        "\n",
        "#Capture mask/label info as a list\n",
        "train_masks = []\n",
        "for directory_path in os.listdir(folder_mask):\n",
        "        mask = Image.open(folder_mask+'/'+directory_path)\n",
        "        mask = mask.resize((128, 128))\n",
        "        mask = np.array(mask)\n",
        "        train_masks.append(mask)\n",
        "\n",
        "#Convert list to array for machine learning processing\n",
        "train_masks = np.array(train_masks)\n",
        "train_masks = train_masks/255.0"
      ],
      "metadata": {
        "id": "srA_JAoGNiws"
      },
      "execution_count": 41,
      "outputs": []
    },
    {
      "cell_type": "code",
      "source": [
        "from sklearn.model_selection import train_test_split\n",
        "X_train, X_test, y_train, y_test = train_test_split(train_images, train_masks, test_size=0.2, random_state=42)"
      ],
      "metadata": {
        "id": "JcmUtKdmOREJ"
      },
      "execution_count": 42,
      "outputs": []
    },
    {
      "cell_type": "code",
      "source": [
        "from keras.models import Model\n",
        "from keras.layers import Input, Conv2D, MaxPooling2D, UpSampling2D, concatenate, Conv2DTranspose, BatchNormalization, Dropout, Lambda\n",
        "import tensorflow as tf\n",
        "from tensorflow.keras import layers, models"
      ],
      "metadata": {
        "id": "cmatd0sNOTmn"
      },
      "execution_count": 43,
      "outputs": []
    },
    {
      "cell_type": "code",
      "source": [
        "inputs = tf.keras.Input((128, 128, 3))\n",
        "\n",
        "    # Contracting Path\n",
        "s = inputs\n",
        "\n",
        "    #Contraction path\n",
        "c1 = Conv2D(16, (3, 3), activation='relu', kernel_initializer='he_normal', padding='same')(s)\n",
        "c1 = Dropout(0.1)(c1)\n",
        "c1 = Conv2D(16, (3, 3), activation='relu', kernel_initializer='he_normal', padding='same')(c1)\n",
        "p1 = MaxPooling2D((2, 2))(c1)\n",
        "\n",
        "c2 = Conv2D(32, (3, 3), activation='relu', kernel_initializer='he_normal', padding='same')(p1)\n",
        "c2 = Dropout(0.1)(c2)\n",
        "c2 = Conv2D(32, (3, 3), activation='relu', kernel_initializer='he_normal', padding='same')(c2)\n",
        "p2 = MaxPooling2D((2, 2))(c2)\n",
        "\n",
        "c3 = Conv2D(64, (3, 3), activation='relu', kernel_initializer='he_normal', padding='same')(p2)\n",
        "c3 = Dropout(0.2)(c3)\n",
        "c3 = Conv2D(64, (3, 3), activation='relu', kernel_initializer='he_normal', padding='same')(c3)\n",
        "p3 = MaxPooling2D((2, 2))(c3)\n",
        "\n",
        "c4 = Conv2D(128, (3, 3), activation='relu', kernel_initializer='he_normal', padding='same')(p3)\n",
        "c4 = Dropout(0.2)(c4)\n",
        "c4 = Conv2D(128, (3, 3), activation='relu', kernel_initializer='he_normal', padding='same')(c4)\n",
        "\n",
        "#Expansive path\n",
        "\n",
        "u7 = Conv2DTranspose(64, (2, 2), strides=(2, 2), padding='same')(c4)\n",
        "u7 = concatenate([u7, c3])\n",
        "c7 = Conv2D(64, (3, 3), activation='relu', kernel_initializer='he_normal', padding='same')(u7)\n",
        "c7 = Dropout(0.2)(c7)\n",
        "c7 = Conv2D(64, (3, 3), activation='relu', kernel_initializer='he_normal', padding='same')(c7)\n",
        "\n",
        "u8 = Conv2DTranspose(32, (2, 2), strides=(2, 2), padding='same')(c7)\n",
        "u8 = concatenate([u8, c2])\n",
        "c8 = Conv2D(32, (3, 3), activation='relu', kernel_initializer='he_normal', padding='same')(u8)\n",
        "c8 = Dropout(0.1)(c8)\n",
        "c8 = Conv2D(32, (3, 3), activation='relu', kernel_initializer='he_normal', padding='same')(c8)\n",
        "\n",
        "u9 = Conv2DTranspose(16, (2, 2), strides=(2, 2), padding='same')(c8)\n",
        "u9 = concatenate([u9, c1], axis=3)\n",
        "c9 = Conv2D(16, (3, 3), activation='relu', kernel_initializer='he_normal', padding='same')(u9)\n",
        "c9 = Dropout(0.1)(c9)\n",
        "c9 = Conv2D(16, (3, 3), activation='relu', kernel_initializer='he_normal', padding='same')(c9)\n",
        "\n",
        "outputs = Conv2D(3, (1, 1), activation='softmax')(c9)\n",
        "\n",
        "model = Model(inputs=[inputs], outputs=[outputs])"
      ],
      "metadata": {
        "id": "7TrEthCROY76"
      },
      "execution_count": 44,
      "outputs": []
    },
    {
      "cell_type": "code",
      "source": [
        "model.compile(optimizer='adam', loss='mean_squared_error', metrics=['accuracy'])\n",
        "model.summary()"
      ],
      "metadata": {
        "colab": {
          "base_uri": "https://localhost:8080/"
        },
        "id": "AFmQRXkZOZu6",
        "outputId": "92a140e5-b993-4d5a-9c67-2bb7291afd94"
      },
      "execution_count": 45,
      "outputs": [
        {
          "output_type": "stream",
          "name": "stdout",
          "text": [
            "Model: \"model_2\"\n",
            "__________________________________________________________________________________________________\n",
            " Layer (type)                Output Shape                 Param #   Connected to                  \n",
            "==================================================================================================\n",
            " input_4 (InputLayer)        [(None, 128, 128, 3)]        0         []                            \n",
            "                                                                                                  \n",
            " conv2d_38 (Conv2D)          (None, 128, 128, 16)         448       ['input_4[0][0]']             \n",
            "                                                                                                  \n",
            " dropout_18 (Dropout)        (None, 128, 128, 16)         0         ['conv2d_38[0][0]']           \n",
            "                                                                                                  \n",
            " conv2d_39 (Conv2D)          (None, 128, 128, 16)         2320      ['dropout_18[0][0]']          \n",
            "                                                                                                  \n",
            " max_pooling2d_9 (MaxPoolin  (None, 64, 64, 16)           0         ['conv2d_39[0][0]']           \n",
            " g2D)                                                                                             \n",
            "                                                                                                  \n",
            " conv2d_40 (Conv2D)          (None, 64, 64, 32)           4640      ['max_pooling2d_9[0][0]']     \n",
            "                                                                                                  \n",
            " dropout_19 (Dropout)        (None, 64, 64, 32)           0         ['conv2d_40[0][0]']           \n",
            "                                                                                                  \n",
            " conv2d_41 (Conv2D)          (None, 64, 64, 32)           9248      ['dropout_19[0][0]']          \n",
            "                                                                                                  \n",
            " max_pooling2d_10 (MaxPooli  (None, 32, 32, 32)           0         ['conv2d_41[0][0]']           \n",
            " ng2D)                                                                                            \n",
            "                                                                                                  \n",
            " conv2d_42 (Conv2D)          (None, 32, 32, 64)           18496     ['max_pooling2d_10[0][0]']    \n",
            "                                                                                                  \n",
            " dropout_20 (Dropout)        (None, 32, 32, 64)           0         ['conv2d_42[0][0]']           \n",
            "                                                                                                  \n",
            " conv2d_43 (Conv2D)          (None, 32, 32, 64)           36928     ['dropout_20[0][0]']          \n",
            "                                                                                                  \n",
            " max_pooling2d_11 (MaxPooli  (None, 16, 16, 64)           0         ['conv2d_43[0][0]']           \n",
            " ng2D)                                                                                            \n",
            "                                                                                                  \n",
            " conv2d_44 (Conv2D)          (None, 16, 16, 128)          73856     ['max_pooling2d_11[0][0]']    \n",
            "                                                                                                  \n",
            " dropout_21 (Dropout)        (None, 16, 16, 128)          0         ['conv2d_44[0][0]']           \n",
            "                                                                                                  \n",
            " conv2d_45 (Conv2D)          (None, 16, 16, 128)          147584    ['dropout_21[0][0]']          \n",
            "                                                                                                  \n",
            " conv2d_transpose_7 (Conv2D  (None, 32, 32, 64)           32832     ['conv2d_45[0][0]']           \n",
            " Transpose)                                                                                       \n",
            "                                                                                                  \n",
            " concatenate_7 (Concatenate  (None, 32, 32, 128)          0         ['conv2d_transpose_7[0][0]',  \n",
            " )                                                                   'conv2d_43[0][0]']           \n",
            "                                                                                                  \n",
            " conv2d_46 (Conv2D)          (None, 32, 32, 64)           73792     ['concatenate_7[0][0]']       \n",
            "                                                                                                  \n",
            " dropout_22 (Dropout)        (None, 32, 32, 64)           0         ['conv2d_46[0][0]']           \n",
            "                                                                                                  \n",
            " conv2d_47 (Conv2D)          (None, 32, 32, 64)           36928     ['dropout_22[0][0]']          \n",
            "                                                                                                  \n",
            " conv2d_transpose_8 (Conv2D  (None, 64, 64, 32)           8224      ['conv2d_47[0][0]']           \n",
            " Transpose)                                                                                       \n",
            "                                                                                                  \n",
            " concatenate_8 (Concatenate  (None, 64, 64, 64)           0         ['conv2d_transpose_8[0][0]',  \n",
            " )                                                                   'conv2d_41[0][0]']           \n",
            "                                                                                                  \n",
            " conv2d_48 (Conv2D)          (None, 64, 64, 32)           18464     ['concatenate_8[0][0]']       \n",
            "                                                                                                  \n",
            " dropout_23 (Dropout)        (None, 64, 64, 32)           0         ['conv2d_48[0][0]']           \n",
            "                                                                                                  \n",
            " conv2d_49 (Conv2D)          (None, 64, 64, 32)           9248      ['dropout_23[0][0]']          \n",
            "                                                                                                  \n",
            " conv2d_transpose_9 (Conv2D  (None, 128, 128, 16)         2064      ['conv2d_49[0][0]']           \n",
            " Transpose)                                                                                       \n",
            "                                                                                                  \n",
            " concatenate_9 (Concatenate  (None, 128, 128, 32)         0         ['conv2d_transpose_9[0][0]',  \n",
            " )                                                                   'conv2d_39[0][0]']           \n",
            "                                                                                                  \n",
            " conv2d_50 (Conv2D)          (None, 128, 128, 16)         4624      ['concatenate_9[0][0]']       \n",
            "                                                                                                  \n",
            " dropout_24 (Dropout)        (None, 128, 128, 16)         0         ['conv2d_50[0][0]']           \n",
            "                                                                                                  \n",
            " conv2d_51 (Conv2D)          (None, 128, 128, 16)         2320      ['dropout_24[0][0]']          \n",
            "                                                                                                  \n",
            " conv2d_52 (Conv2D)          (None, 128, 128, 3)          51        ['conv2d_51[0][0]']           \n",
            "                                                                                                  \n",
            "==================================================================================================\n",
            "Total params: 482067 (1.84 MB)\n",
            "Trainable params: 482067 (1.84 MB)\n",
            "Non-trainable params: 0 (0.00 Byte)\n",
            "__________________________________________________________________________________________________\n"
          ]
        }
      ]
    },
    {
      "cell_type": "code",
      "source": [
        "history = model.fit(X_train, y_train, epochs=11, batch_size=15, validation_data=(X_test, y_test))"
      ],
      "metadata": {
        "colab": {
          "base_uri": "https://localhost:8080/"
        },
        "id": "Bgv2GpNqOeq2",
        "outputId": "2009bf07-2d2b-4274-bfe5-7e0807986629"
      },
      "execution_count": 49,
      "outputs": [
        {
          "output_type": "stream",
          "name": "stdout",
          "text": [
            "Epoch 1/11\n",
            "5/5 [==============================] - 12s 2s/step - loss: 0.1133 - accuracy: 0.9100 - val_loss: 0.1146 - val_accuracy: 0.9495\n",
            "Epoch 2/11\n",
            "5/5 [==============================] - 12s 2s/step - loss: 0.1133 - accuracy: 0.6981 - val_loss: 0.1145 - val_accuracy: 0.2443\n",
            "Epoch 3/11\n",
            "5/5 [==============================] - 10s 2s/step - loss: 0.1132 - accuracy: 0.4255 - val_loss: 0.1145 - val_accuracy: 0.3483\n",
            "Epoch 4/11\n",
            "5/5 [==============================] - 12s 2s/step - loss: 0.1131 - accuracy: 0.8355 - val_loss: 0.1145 - val_accuracy: 0.9558\n",
            "Epoch 5/11\n",
            "5/5 [==============================] - 12s 2s/step - loss: 0.1133 - accuracy: 0.7417 - val_loss: 0.1143 - val_accuracy: 0.2216\n",
            "Epoch 6/11\n",
            "5/5 [==============================] - 12s 2s/step - loss: 0.1131 - accuracy: 0.3133 - val_loss: 0.1148 - val_accuracy: 0.1656\n",
            "Epoch 7/11\n",
            "5/5 [==============================] - 11s 2s/step - loss: 0.1131 - accuracy: 0.2820 - val_loss: 0.1146 - val_accuracy: 0.2557\n",
            "Epoch 8/11\n",
            "5/5 [==============================] - 10s 2s/step - loss: 0.1131 - accuracy: 0.6988 - val_loss: 0.1145 - val_accuracy: 0.9655\n",
            "Epoch 9/11\n",
            "5/5 [==============================] - 12s 2s/step - loss: 0.1131 - accuracy: 0.9340 - val_loss: 0.1146 - val_accuracy: 0.9533\n",
            "Epoch 10/11\n",
            "5/5 [==============================] - 12s 2s/step - loss: 0.1130 - accuracy: 0.9370 - val_loss: 0.1146 - val_accuracy: 0.9636\n",
            "Epoch 11/11\n",
            "5/5 [==============================] - 12s 2s/step - loss: 0.1130 - accuracy: 0.9512 - val_loss: 0.1146 - val_accuracy: 0.9630\n"
          ]
        }
      ]
    }
  ]
}